{
  "nbformat": 4,
  "nbformat_minor": 0,
  "metadata": {
    "colab": {
      "name": "Basic_Python.ipynb",
      "provenance": [],
      "authorship_tag": "ABX9TyOsIgGyLLtC8uSGF+dfQ3dY",
      "include_colab_link": true
    },
    "kernelspec": {
      "name": "python3",
      "display_name": "Python 3"
    },
    "language_info": {
      "name": "python"
    }
  },
  "cells": [
    {
      "cell_type": "markdown",
      "metadata": {
        "id": "view-in-github",
        "colab_type": "text"
      },
      "source": [
        "<a href=\"https://colab.research.google.com/github/FahmidaNourin/Python_Practice/blob/main/Basic_Python.ipynb\" target=\"_parent\"><img src=\"https://colab.research.google.com/assets/colab-badge.svg\" alt=\"Open In Colab\"/></a>"
      ]
    },
    {
      "cell_type": "markdown",
      "source": [
        "# PRINT SOMETHING"
      ],
      "metadata": {
        "id": "UayYZKSb3BBR"
      }
    },
    {
      "cell_type": "code",
      "execution_count": null,
      "metadata": {
        "colab": {
          "base_uri": "https://localhost:8080/"
        },
        "id": "w9UOxpGn2XhF",
        "outputId": "f4955d27-7e21-4f46-bdad-b7a16bb27a6d"
      },
      "outputs": [
        {
          "output_type": "stream",
          "name": "stdout",
          "text": [
            "hello world!\n",
            "NSU is the best university.\n"
          ]
        }
      ],
      "source": [
        "print(\"hello world!\")\n",
        "print(\"NSU is the best university.\")"
      ]
    },
    {
      "cell_type": "code",
      "source": [
        "print(\"Din the Day\")"
      ],
      "metadata": {
        "colab": {
          "base_uri": "https://localhost:8080/"
        },
        "id": "fPI6WLWt5yHY",
        "outputId": "07650ec7-81d1-414b-b4bb-fcbcc17eb5b7"
      },
      "execution_count": null,
      "outputs": [
        {
          "output_type": "stream",
          "name": "stdout",
          "text": [
            "Din the Day\n"
          ]
        }
      ]
    },
    {
      "cell_type": "markdown",
      "source": [
        "#INPUT"
      ],
      "metadata": {
        "id": "rmHJbXFa8rv6"
      }
    },
    {
      "cell_type": "code",
      "source": [
        "x=input(\"INPUT VALUE OF X:\")\n",
        "print(x)"
      ],
      "metadata": {
        "colab": {
          "base_uri": "https://localhost:8080/"
        },
        "id": "iN88ZDEW8xq_",
        "outputId": "be7f66b2-7bd0-4189-b2b2-dad818bff7ab"
      },
      "execution_count": null,
      "outputs": [
        {
          "output_type": "stream",
          "name": "stdout",
          "text": [
            "INPUT VALUE OF X:gdyeiud\n",
            "gdyeiud\n"
          ]
        }
      ]
    },
    {
      "cell_type": "markdown",
      "source": [
        "#Sumation of two number "
      ],
      "metadata": {
        "id": "Wbyl-UHw92Mh"
      }
    },
    {
      "cell_type": "code",
      "source": [
        "x=int(input(\"input value of x:\"))\n",
        "y=int(input(\"input value of y:\"))\n",
        "print(x+y)"
      ],
      "metadata": {
        "colab": {
          "base_uri": "https://localhost:8080/"
        },
        "id": "JFqTaOVM987_",
        "outputId": "e1b160fe-9aeb-4289-e5ba-44163949d37f"
      },
      "execution_count": null,
      "outputs": [
        {
          "output_type": "stream",
          "name": "stdout",
          "text": [
            "input value of x:2\n",
            "input value of y:2\n",
            "4\n"
          ]
        }
      ]
    },
    {
      "cell_type": "markdown",
      "source": [
        "#Summation of two words"
      ],
      "metadata": {
        "id": "swZKNe1e_AUP"
      }
    },
    {
      "cell_type": "code",
      "source": [
        "x=input(\"input value of x:\")\n",
        "y=input(\"input value of y:\")\n",
        "print(x+y)"
      ],
      "metadata": {
        "colab": {
          "base_uri": "https://localhost:8080/"
        },
        "id": "ZjjYVKWK_FXv",
        "outputId": "38f00a67-6606-4525-8242-368359030a22"
      },
      "execution_count": null,
      "outputs": [
        {
          "output_type": "stream",
          "name": "stdout",
          "text": [
            "input value of x:jani na\n",
            "input value of y:  ki likhbo\n",
            "jani na  ki likhbo\n"
          ]
        }
      ]
    },
    {
      "cell_type": "code",
      "source": [
        "print(x)"
      ],
      "metadata": {
        "colab": {
          "base_uri": "https://localhost:8080/"
        },
        "id": "NA30iIPp_sK4",
        "outputId": "f9440335-1dfa-4b41-90d7-4e00b3bfeaef"
      },
      "execution_count": null,
      "outputs": [
        {
          "output_type": "stream",
          "name": "stdout",
          "text": [
            "jani na\n"
          ]
        }
      ]
    },
    {
      "cell_type": "markdown",
      "source": [
        "#Indexing & Sagmentaion"
      ],
      "metadata": {
        "id": "zPqaOVj_ADBQ"
      }
    },
    {
      "cell_type": "code",
      "source": [
        "print(y[2])"
      ],
      "metadata": {
        "colab": {
          "base_uri": "https://localhost:8080/"
        },
        "id": "DgtylX4_ACjv",
        "outputId": "74b65ec8-3649-408a-f228-bc188a9fb2d2"
      },
      "execution_count": null,
      "outputs": [
        {
          "output_type": "stream",
          "name": "stdout",
          "text": [
            "k\n"
          ]
        }
      ]
    },
    {
      "cell_type": "code",
      "source": [
        "print(y[7])"
      ],
      "metadata": {
        "colab": {
          "base_uri": "https://localhost:8080/"
        },
        "id": "GOfd79kiBmsO",
        "outputId": "1e6b8fb3-2366-4a78-b892-942e53e2da8e"
      },
      "execution_count": null,
      "outputs": [
        {
          "output_type": "stream",
          "name": "stdout",
          "text": [
            "k\n"
          ]
        }
      ]
    },
    {
      "cell_type": "code",
      "source": [
        "print(y[2:8]) "
      ],
      "metadata": {
        "colab": {
          "base_uri": "https://localhost:8080/"
        },
        "id": "ZADzClKpAftf",
        "outputId": "d2b85c38-e4b6-4e13-cf4e-80f583253ce1"
      },
      "execution_count": null,
      "outputs": [
        {
          "output_type": "stream",
          "name": "stdout",
          "text": [
            "ki lik\n"
          ]
        }
      ]
    },
    {
      "cell_type": "code",
      "source": [
        "string='hello how are you'\n",
        "\n",
        "print(string[0:7])"
      ],
      "metadata": {
        "colab": {
          "base_uri": "https://localhost:8080/"
        },
        "id": "KVDBo8P-icEl",
        "outputId": "8b4cb5c4-33cd-46d0-f771-48878fa57127"
      },
      "execution_count": 1,
      "outputs": [
        {
          "output_type": "stream",
          "name": "stdout",
          "text": [
            "hello h\n"
          ]
        }
      ]
    },
    {
      "cell_type": "markdown",
      "source": [
        "#condition"
      ],
      "metadata": {
        "id": "vUtLUthTi_uv"
      }
    },
    {
      "cell_type": "code",
      "source": [
        "x=int(input(\"Input value of x: \"))\n",
        "if(x%2==0):\n",
        "  print(\"number is even\")\n",
        "else:\n",
        "  print(\"Number is odd\")"
      ],
      "metadata": {
        "colab": {
          "base_uri": "https://localhost:8080/"
        },
        "id": "sAXE5c_BjCtD",
        "outputId": "6931d7b6-f630-4260-ba11-637421070bc9"
      },
      "execution_count": 4,
      "outputs": [
        {
          "output_type": "stream",
          "name": "stdout",
          "text": [
            "Input value of x: 78\n",
            "number is even\n"
          ]
        }
      ]
    },
    {
      "cell_type": "code",
      "source": [
        "x=int(input(\"Input value of x: \"))\n",
        "if(x==0):\n",
        "  print(\"number is ZERO\")\n",
        "elif(x>0):\n",
        "  print(\"Number is positive\")\n",
        "elif(x<0):\n",
        "  print(\"Number is negative\")\n",
        "else:\n",
        "  print(\"Invalid\")"
      ],
      "metadata": {
        "colab": {
          "base_uri": "https://localhost:8080/"
        },
        "id": "914iQfOnk2aF",
        "outputId": "6cab6e98-6551-4087-d0ca-62c06c879529"
      },
      "execution_count": 5,
      "outputs": [
        {
          "output_type": "stream",
          "name": "stdout",
          "text": [
            "Input value of x: -23\n",
            "Number is negative\n"
          ]
        }
      ]
    }
  ]
}