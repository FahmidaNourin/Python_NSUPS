{
  "nbformat": 4,
  "nbformat_minor": 0,
  "metadata": {
    "colab": {
      "name": "Basic_Python.ipynb",
      "provenance": [],
      "authorship_tag": "ABX9TyMw26IogEdrmvZiqehRJqiV",
      "include_colab_link": true
    },
    "kernelspec": {
      "name": "python3",
      "display_name": "Python 3"
    },
    "language_info": {
      "name": "python"
    }
  },
  "cells": [
    {
      "cell_type": "markdown",
      "metadata": {
        "id": "view-in-github",
        "colab_type": "text"
      },
      "source": [
        "<a href=\"https://colab.research.google.com/github/FahmidaNourin/Python_Practice/blob/main/Basic_Python.ipynb\" target=\"_parent\"><img src=\"https://colab.research.google.com/assets/colab-badge.svg\" alt=\"Open In Colab\"/></a>"
      ]
    },
    {
      "cell_type": "markdown",
      "source": [
        "# PRINT SOMETHING"
      ],
      "metadata": {
        "id": "UayYZKSb3BBR"
      }
    },
    {
      "cell_type": "code",
      "execution_count": null,
      "metadata": {
        "colab": {
          "base_uri": "https://localhost:8080/"
        },
        "id": "w9UOxpGn2XhF",
        "outputId": "f4955d27-7e21-4f46-bdad-b7a16bb27a6d"
      },
      "outputs": [
        {
          "output_type": "stream",
          "name": "stdout",
          "text": [
            "hello world!\n",
            "NSU is the best university.\n"
          ]
        }
      ],
      "source": [
        "print(\"hello world!\")\n",
        "print(\"NSU is the best university.\")"
      ]
    },
    {
      "cell_type": "code",
      "source": [
        "print(\"Din the Day\")"
      ],
      "metadata": {
        "colab": {
          "base_uri": "https://localhost:8080/"
        },
        "id": "fPI6WLWt5yHY",
        "outputId": "07650ec7-81d1-414b-b4bb-fcbcc17eb5b7"
      },
      "execution_count": null,
      "outputs": [
        {
          "output_type": "stream",
          "name": "stdout",
          "text": [
            "Din the Day\n"
          ]
        }
      ]
    },
    {
      "cell_type": "markdown",
      "source": [
        "#INPUT"
      ],
      "metadata": {
        "id": "rmHJbXFa8rv6"
      }
    },
    {
      "cell_type": "code",
      "source": [
        "x=input(\"INPUT VALUE OF X:\")\n",
        "print(x)"
      ],
      "metadata": {
        "colab": {
          "base_uri": "https://localhost:8080/"
        },
        "id": "iN88ZDEW8xq_",
        "outputId": "be7f66b2-7bd0-4189-b2b2-dad818bff7ab"
      },
      "execution_count": null,
      "outputs": [
        {
          "output_type": "stream",
          "name": "stdout",
          "text": [
            "INPUT VALUE OF X:gdyeiud\n",
            "gdyeiud\n"
          ]
        }
      ]
    },
    {
      "cell_type": "markdown",
      "source": [
        "#Sumation of two number "
      ],
      "metadata": {
        "id": "Wbyl-UHw92Mh"
      }
    },
    {
      "cell_type": "code",
      "source": [
        "x=int(input(\"input value of x:\"))\n",
        "y=int(input(\"input value of y:\"))\n",
        "print(x+y)"
      ],
      "metadata": {
        "colab": {
          "base_uri": "https://localhost:8080/"
        },
        "id": "JFqTaOVM987_",
        "outputId": "e1b160fe-9aeb-4289-e5ba-44163949d37f"
      },
      "execution_count": null,
      "outputs": [
        {
          "output_type": "stream",
          "name": "stdout",
          "text": [
            "input value of x:2\n",
            "input value of y:2\n",
            "4\n"
          ]
        }
      ]
    },
    {
      "cell_type": "markdown",
      "source": [
        "#Summation of two words"
      ],
      "metadata": {
        "id": "swZKNe1e_AUP"
      }
    },
    {
      "cell_type": "code",
      "source": [
        "x=input(\"input value of x:\")\n",
        "y=input(\"input value of y:\")\n",
        "print(x+y)"
      ],
      "metadata": {
        "colab": {
          "base_uri": "https://localhost:8080/"
        },
        "id": "ZjjYVKWK_FXv",
        "outputId": "38f00a67-6606-4525-8242-368359030a22"
      },
      "execution_count": null,
      "outputs": [
        {
          "output_type": "stream",
          "name": "stdout",
          "text": [
            "input value of x:jani na\n",
            "input value of y:  ki likhbo\n",
            "jani na  ki likhbo\n"
          ]
        }
      ]
    },
    {
      "cell_type": "code",
      "source": [
        "print(x)"
      ],
      "metadata": {
        "colab": {
          "base_uri": "https://localhost:8080/"
        },
        "id": "NA30iIPp_sK4",
        "outputId": "f9440335-1dfa-4b41-90d7-4e00b3bfeaef"
      },
      "execution_count": null,
      "outputs": [
        {
          "output_type": "stream",
          "name": "stdout",
          "text": [
            "jani na\n"
          ]
        }
      ]
    },
    {
      "cell_type": "markdown",
      "source": [
        "#Indexing & Sagmentaion"
      ],
      "metadata": {
        "id": "zPqaOVj_ADBQ"
      }
    },
    {
      "cell_type": "code",
      "source": [
        "print(y[2])"
      ],
      "metadata": {
        "colab": {
          "base_uri": "https://localhost:8080/"
        },
        "id": "DgtylX4_ACjv",
        "outputId": "74b65ec8-3649-408a-f228-bc188a9fb2d2"
      },
      "execution_count": null,
      "outputs": [
        {
          "output_type": "stream",
          "name": "stdout",
          "text": [
            "k\n"
          ]
        }
      ]
    },
    {
      "cell_type": "code",
      "source": [
        "print(y[7])"
      ],
      "metadata": {
        "colab": {
          "base_uri": "https://localhost:8080/"
        },
        "id": "GOfd79kiBmsO",
        "outputId": "1e6b8fb3-2366-4a78-b892-942e53e2da8e"
      },
      "execution_count": null,
      "outputs": [
        {
          "output_type": "stream",
          "name": "stdout",
          "text": [
            "k\n"
          ]
        }
      ]
    },
    {
      "cell_type": "code",
      "source": [
        "print(y[2:8]) "
      ],
      "metadata": {
        "colab": {
          "base_uri": "https://localhost:8080/"
        },
        "id": "ZADzClKpAftf",
        "outputId": "d2b85c38-e4b6-4e13-cf4e-80f583253ce1"
      },
      "execution_count": null,
      "outputs": [
        {
          "output_type": "stream",
          "name": "stdout",
          "text": [
            "ki lik\n"
          ]
        }
      ]
    },
    {
      "cell_type": "code",
      "source": [
        "string='hello how are you'\n",
        "\n",
        "print(string[0:7])"
      ],
      "metadata": {
        "colab": {
          "base_uri": "https://localhost:8080/"
        },
        "id": "KVDBo8P-icEl",
        "outputId": "8b4cb5c4-33cd-46d0-f771-48878fa57127"
      },
      "execution_count": 1,
      "outputs": [
        {
          "output_type": "stream",
          "name": "stdout",
          "text": [
            "hello h\n"
          ]
        }
      ]
    },
    {
      "cell_type": "markdown",
      "source": [
        "#condition"
      ],
      "metadata": {
        "id": "vUtLUthTi_uv"
      }
    },
    {
      "cell_type": "code",
      "source": [
        "x=int(input(\"Input value of x: \"))\n",
        "if(x%2==0):\n",
        "  print(\"number is even\")\n",
        "else:\n",
        "  print(\"Number is odd\")"
      ],
      "metadata": {
        "colab": {
          "base_uri": "https://localhost:8080/"
        },
        "id": "sAXE5c_BjCtD",
        "outputId": "6931d7b6-f630-4260-ba11-637421070bc9"
      },
      "execution_count": 4,
      "outputs": [
        {
          "output_type": "stream",
          "name": "stdout",
          "text": [
            "Input value of x: 78\n",
            "number is even\n"
          ]
        }
      ]
    },
    {
      "cell_type": "code",
      "source": [
        "x=int(input(\"Input value of x: \"))\n",
        "if(x==0):\n",
        "  print(\"number is ZERO\")\n",
        "elif(x>0):\n",
        "  print(\"Number is positive\")\n",
        "elif(x<0):\n",
        "  print(\"Number is negative\")\n",
        "else:\n",
        "  print(\"Invalid\")"
      ],
      "metadata": {
        "colab": {
          "base_uri": "https://localhost:8080/"
        },
        "id": "914iQfOnk2aF",
        "outputId": "6cab6e98-6551-4087-d0ca-62c06c879529"
      },
      "execution_count": 5,
      "outputs": [
        {
          "output_type": "stream",
          "name": "stdout",
          "text": [
            "Input value of x: -23\n",
            "Number is negative\n"
          ]
        }
      ]
    },
    {
      "cell_type": "markdown",
      "source": [
        "#LOOP"
      ],
      "metadata": {
        "id": "w6ZWNfxunwF6"
      }
    },
    {
      "cell_type": "markdown",
      "source": [
        "increament"
      ],
      "metadata": {
        "id": "lRGri67CpUyT"
      }
    },
    {
      "cell_type": "code",
      "source": [
        "for i in range(1,801):\n",
        "  print(i, \"Nourin is a pritty girl!!\")"
      ],
      "metadata": {
        "id": "e42suWGinvg6"
      },
      "execution_count": null,
      "outputs": []
    },
    {
      "cell_type": "code",
      "source": [
        "string=\"Somoy onek change kore diche amk..shob kichu theke onk dure shoraya diche...jak ga oigula bolbo ne kokhono dekha hole.. Onk time er memories toh..ami akhono kichu mante pari na..badde agula dost..tui amk vul bujhis na dost..Amr sthe dekha kore cake niye then or sthe dekha koris dost oidin\"\n",
        "\n",
        "\n",
        "for i in string:\n",
        "  print(i)\n"
      ],
      "metadata": {
        "colab": {
          "base_uri": "https://localhost:8080/"
        },
        "id": "fVQGY2eBofdL",
        "outputId": "cf2393fd-595f-478c-fcdd-0e091e23bd3e"
      },
      "execution_count": 8,
      "outputs": [
        {
          "output_type": "stream",
          "name": "stdout",
          "text": [
            "S\n",
            "o\n",
            "m\n",
            "o\n",
            "y\n",
            " \n",
            "o\n",
            "n\n",
            "e\n",
            "k\n",
            " \n",
            "c\n",
            "h\n",
            "a\n",
            "n\n",
            "g\n",
            "e\n",
            " \n",
            "k\n",
            "o\n",
            "r\n",
            "e\n",
            " \n",
            "d\n",
            "i\n",
            "c\n",
            "h\n",
            "e\n",
            " \n",
            "a\n",
            "m\n",
            "k\n",
            ".\n",
            ".\n",
            "s\n",
            "h\n",
            "o\n",
            "b\n",
            " \n",
            "k\n",
            "i\n",
            "c\n",
            "h\n",
            "u\n",
            " \n",
            "t\n",
            "h\n",
            "e\n",
            "k\n",
            "e\n",
            " \n",
            "o\n",
            "n\n",
            "k\n",
            " \n",
            "d\n",
            "u\n",
            "r\n",
            "e\n",
            " \n",
            "s\n",
            "h\n",
            "o\n",
            "r\n",
            "a\n",
            "y\n",
            "a\n",
            " \n",
            "d\n",
            "i\n",
            "c\n",
            "h\n",
            "e\n",
            ".\n",
            ".\n",
            ".\n",
            "j\n",
            "a\n",
            "k\n",
            " \n",
            "g\n",
            "a\n",
            " \n",
            "o\n",
            "i\n",
            "g\n",
            "u\n",
            "l\n",
            "a\n",
            " \n",
            "b\n",
            "o\n",
            "l\n",
            "b\n",
            "o\n",
            " \n",
            "n\n",
            "e\n",
            " \n",
            "k\n",
            "o\n",
            "k\n",
            "h\n",
            "o\n",
            "n\n",
            "o\n",
            " \n",
            "d\n",
            "e\n",
            "k\n",
            "h\n",
            "a\n",
            " \n",
            "h\n",
            "o\n",
            "l\n",
            "e\n",
            ".\n",
            ".\n",
            " \n",
            "O\n",
            "n\n",
            "k\n",
            " \n",
            "t\n",
            "i\n",
            "m\n",
            "e\n",
            " \n",
            "e\n",
            "r\n",
            " \n",
            "m\n",
            "e\n",
            "m\n",
            "o\n",
            "r\n",
            "i\n",
            "e\n",
            "s\n",
            " \n",
            "t\n",
            "o\n",
            "h\n",
            ".\n",
            ".\n",
            "a\n",
            "m\n",
            "i\n",
            " \n",
            "a\n",
            "k\n",
            "h\n",
            "o\n",
            "n\n",
            "o\n",
            " \n",
            "k\n",
            "i\n",
            "c\n",
            "h\n",
            "u\n",
            " \n",
            "m\n",
            "a\n",
            "n\n",
            "t\n",
            "e\n",
            " \n",
            "p\n",
            "a\n",
            "r\n",
            "i\n",
            " \n",
            "n\n",
            "a\n",
            ".\n",
            ".\n",
            "b\n",
            "a\n",
            "d\n",
            "d\n",
            "e\n",
            " \n",
            "a\n",
            "g\n",
            "u\n",
            "l\n",
            "a\n",
            " \n",
            "d\n",
            "o\n",
            "s\n",
            "t\n",
            ".\n",
            ".\n",
            "t\n",
            "u\n",
            "i\n",
            " \n",
            "a\n",
            "m\n",
            "k\n",
            " \n",
            "v\n",
            "u\n",
            "l\n",
            " \n",
            "b\n",
            "u\n",
            "j\n",
            "h\n",
            "i\n",
            "s\n",
            " \n",
            "n\n",
            "a\n",
            " \n",
            "d\n",
            "o\n",
            "s\n",
            "t\n",
            ".\n",
            ".\n",
            "A\n",
            "m\n",
            "r\n",
            " \n",
            "s\n",
            "t\n",
            "h\n",
            "e\n",
            " \n",
            "d\n",
            "e\n",
            "k\n",
            "h\n",
            "a\n",
            " \n",
            "k\n",
            "o\n",
            "r\n",
            "e\n",
            " \n",
            "c\n",
            "a\n",
            "k\n",
            "e\n",
            " \n",
            "n\n",
            "i\n",
            "y\n",
            "e\n",
            " \n",
            "t\n",
            "h\n",
            "e\n",
            "n\n",
            " \n",
            "o\n",
            "r\n",
            " \n",
            "s\n",
            "t\n",
            "h\n",
            "e\n",
            " \n",
            "d\n",
            "e\n",
            "k\n",
            "h\n",
            "a\n",
            " \n",
            "k\n",
            "o\n",
            "r\n",
            "i\n",
            "s\n",
            " \n",
            "d\n",
            "o\n",
            "s\n",
            "t\n",
            " \n",
            "o\n",
            "i\n",
            "d\n",
            "i\n",
            "n\n"
          ]
        }
      ]
    },
    {
      "cell_type": "markdown",
      "source": [
        "word separation"
      ],
      "metadata": {
        "id": "-tl_vqTdq8M0"
      }
    },
    {
      "cell_type": "code",
      "source": [
        "string=\"Somoy onek change kore diche amk..shob kichu theke onk dure shoraya diche...jak ga oigula bolbo ne kokhono dekha hole.. Onk time er memories toh..ami akhono kichu mante pari na..badde agula dost..tui amk vul bujhis na dost..Amr sthe dekha kore cake niye then or sthe dekha koris dost oidin\"\n",
        "\n",
        "string2=string.split(\" \")\n",
        "\n",
        "print(string2)\n",
        "\n",
        "for i in string2:\n",
        "  print(i)"
      ],
      "metadata": {
        "colab": {
          "base_uri": "https://localhost:8080/"
        },
        "id": "IxN_tsBnpj81",
        "outputId": "624a85ef-09b4-4def-8314-2ba017e285a0"
      },
      "execution_count": 10,
      "outputs": [
        {
          "output_type": "stream",
          "name": "stdout",
          "text": [
            "['Somoy', 'onek', 'change', 'kore', 'diche', 'amk..shob', 'kichu', 'theke', 'onk', 'dure', 'shoraya', 'diche...jak', 'ga', 'oigula', 'bolbo', 'ne', 'kokhono', 'dekha', 'hole..', 'Onk', 'time', 'er', 'memories', 'toh..ami', 'akhono', 'kichu', 'mante', 'pari', 'na..badde', 'agula', 'dost..tui', 'amk', 'vul', 'bujhis', 'na', 'dost..Amr', 'sthe', 'dekha', 'kore', 'cake', 'niye', 'then', 'or', 'sthe', 'dekha', 'koris', 'dost', 'oidin']\n",
            "Somoy\n",
            "onek\n",
            "change\n",
            "kore\n",
            "diche\n",
            "amk..shob\n",
            "kichu\n",
            "theke\n",
            "onk\n",
            "dure\n",
            "shoraya\n",
            "diche...jak\n",
            "ga\n",
            "oigula\n",
            "bolbo\n",
            "ne\n",
            "kokhono\n",
            "dekha\n",
            "hole..\n",
            "Onk\n",
            "time\n",
            "er\n",
            "memories\n",
            "toh..ami\n",
            "akhono\n",
            "kichu\n",
            "mante\n",
            "pari\n",
            "na..badde\n",
            "agula\n",
            "dost..tui\n",
            "amk\n",
            "vul\n",
            "bujhis\n",
            "na\n",
            "dost..Amr\n",
            "sthe\n",
            "dekha\n",
            "kore\n",
            "cake\n",
            "niye\n",
            "then\n",
            "or\n",
            "sthe\n",
            "dekha\n",
            "koris\n",
            "dost\n",
            "oidin\n"
          ]
        }
      ]
    },
    {
      "cell_type": "markdown",
      "source": [
        ""
      ],
      "metadata": {
        "id": "O6gOtydxuL3c"
      }
    },
    {
      "cell_type": "code",
      "source": [
        "string=\"Ami as a bf bol as a human being bol as a frnd bol shob dikei genuine ekta loser. Eita ami mani ar keu manuk ar na manuk. Amr mentality hoite pare ektu cheap karon ami alada poribeshe boro hoisi. so ami dure thakai better shob dikei. ami amr nijekei virus mone kori..Ar life e akhn just proti ta din guntesi ei ovishopto life theke ber hoye jawar..aije tore ami mon khule shotti ta bole dilam. Tui vab ja vabar but tui ask krsos ajke tai atogula kotha na bole parlm na.\"\n",
        "string3=string.split(\".\")\n",
        "\n",
        "print(string3)\n",
        "\n",
        "for i in string3:\n",
        "  print(i)"
      ],
      "metadata": {
        "colab": {
          "base_uri": "https://localhost:8080/"
        },
        "id": "a1vDP4r0uMdW",
        "outputId": "a83ed64c-9433-4093-98f8-a5eb29744c3a"
      },
      "execution_count": 11,
      "outputs": [
        {
          "output_type": "stream",
          "name": "stdout",
          "text": [
            "['Ami as a bf bol as a human being bol as a frnd bol shob dikei genuine ekta loser', ' Eita ami mani ar keu manuk ar na manuk', ' Amr mentality hoite pare ektu cheap karon ami alada poribeshe boro hoisi', ' so ami dure thakai better shob dikei', ' ami amr nijekei virus mone kori', '', 'Ar life e akhn just proti ta din guntesi ei ovishopto life theke ber hoye jawar', '', 'aije tore ami mon khule shotti ta bole dilam', ' Tui vab ja vabar but tui ask krsos ajke tai atogula kotha na bole parlm na', '']\n",
            "Ami as a bf bol as a human being bol as a frnd bol shob dikei genuine ekta loser\n",
            " Eita ami mani ar keu manuk ar na manuk\n",
            " Amr mentality hoite pare ektu cheap karon ami alada poribeshe boro hoisi\n",
            " so ami dure thakai better shob dikei\n",
            " ami amr nijekei virus mone kori\n",
            "\n",
            "Ar life e akhn just proti ta din guntesi ei ovishopto life theke ber hoye jawar\n",
            "\n",
            "aije tore ami mon khule shotti ta bole dilam\n",
            " Tui vab ja vabar but tui ask krsos ajke tai atogula kotha na bole parlm na\n",
            "\n"
          ]
        }
      ]
    }
  ]
}